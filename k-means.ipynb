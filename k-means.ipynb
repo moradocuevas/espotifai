{
 "cells": [
  {
   "cell_type": "code",
   "execution_count": 1,
   "metadata": {},
   "outputs": [],
   "source": [
    "# K-Means Clustering\n",
    "# Importing the libraries\n",
    "import numpy as np\n",
    "import matplotlib.pyplot as plt\n",
    "import pandas as pd\n",
    "from jupyterthemes import jtplot\n",
    "jtplot.style(theme='onedork')"
   ]
  },
  {
   "cell_type": "code",
   "execution_count": 2,
   "metadata": {},
   "outputs": [],
   "source": [
    "audio_features = pd.read_csv('audio_features.csv')\n",
    "top200 = pd.read_csv('Listas.csv')"
   ]
  },
  {
   "cell_type": "code",
   "execution_count": 3,
   "metadata": {},
   "outputs": [
    {
     "data": {
      "text/html": [
       "<div>\n",
       "<style scoped>\n",
       "    .dataframe tbody tr th:only-of-type {\n",
       "        vertical-align: middle;\n",
       "    }\n",
       "\n",
       "    .dataframe tbody tr th {\n",
       "        vertical-align: top;\n",
       "    }\n",
       "\n",
       "    .dataframe thead th {\n",
       "        text-align: right;\n",
       "    }\n",
       "</style>\n",
       "<table border=\"1\" class=\"dataframe\">\n",
       "  <thead>\n",
       "    <tr style=\"text-align: right;\">\n",
       "      <th></th>\n",
       "      <th>danceability</th>\n",
       "      <th>energy</th>\n",
       "      <th>key</th>\n",
       "      <th>loudness</th>\n",
       "      <th>mode</th>\n",
       "      <th>speechiness</th>\n",
       "      <th>acousticness</th>\n",
       "      <th>instrumentalness</th>\n",
       "      <th>liveness</th>\n",
       "      <th>valence</th>\n",
       "      <th>tempo</th>\n",
       "      <th>duration_ms</th>\n",
       "      <th>time_signature</th>\n",
       "    </tr>\n",
       "  </thead>\n",
       "  <tbody>\n",
       "    <tr>\n",
       "      <th>count</th>\n",
       "      <td>4399.000000</td>\n",
       "      <td>4399.000000</td>\n",
       "      <td>4399.000000</td>\n",
       "      <td>4399.000000</td>\n",
       "      <td>4399.000000</td>\n",
       "      <td>4399.000000</td>\n",
       "      <td>4399.000000</td>\n",
       "      <td>4399.000000</td>\n",
       "      <td>4399.000000</td>\n",
       "      <td>4399.000000</td>\n",
       "      <td>4399.000000</td>\n",
       "      <td>4.399000e+03</td>\n",
       "      <td>4399.000000</td>\n",
       "    </tr>\n",
       "    <tr>\n",
       "      <th>mean</th>\n",
       "      <td>0.680125</td>\n",
       "      <td>0.646061</td>\n",
       "      <td>5.424642</td>\n",
       "      <td>-6.538085</td>\n",
       "      <td>0.562401</td>\n",
       "      <td>0.116357</td>\n",
       "      <td>0.276693</td>\n",
       "      <td>0.007964</td>\n",
       "      <td>0.179661</td>\n",
       "      <td>0.525453</td>\n",
       "      <td>121.342378</td>\n",
       "      <td>2.141793e+05</td>\n",
       "      <td>3.976131</td>\n",
       "    </tr>\n",
       "    <tr>\n",
       "      <th>std</th>\n",
       "      <td>0.138359</td>\n",
       "      <td>0.164395</td>\n",
       "      <td>3.590725</td>\n",
       "      <td>2.388598</td>\n",
       "      <td>0.496147</td>\n",
       "      <td>0.108137</td>\n",
       "      <td>0.244853</td>\n",
       "      <td>0.061715</td>\n",
       "      <td>0.149982</td>\n",
       "      <td>0.217144</td>\n",
       "      <td>28.900121</td>\n",
       "      <td>5.329166e+04</td>\n",
       "      <td>0.251640</td>\n",
       "    </tr>\n",
       "    <tr>\n",
       "      <th>min</th>\n",
       "      <td>0.116000</td>\n",
       "      <td>0.054900</td>\n",
       "      <td>0.000000</td>\n",
       "      <td>-23.666000</td>\n",
       "      <td>0.000000</td>\n",
       "      <td>0.022800</td>\n",
       "      <td>0.000025</td>\n",
       "      <td>0.000000</td>\n",
       "      <td>0.016100</td>\n",
       "      <td>0.036900</td>\n",
       "      <td>48.718000</td>\n",
       "      <td>6.374300e+04</td>\n",
       "      <td>1.000000</td>\n",
       "    </tr>\n",
       "    <tr>\n",
       "      <th>25%</th>\n",
       "      <td>0.590000</td>\n",
       "      <td>0.538000</td>\n",
       "      <td>2.000000</td>\n",
       "      <td>-7.873500</td>\n",
       "      <td>0.000000</td>\n",
       "      <td>0.039450</td>\n",
       "      <td>0.070850</td>\n",
       "      <td>0.000000</td>\n",
       "      <td>0.094600</td>\n",
       "      <td>0.356000</td>\n",
       "      <td>97.978000</td>\n",
       "      <td>1.824580e+05</td>\n",
       "      <td>4.000000</td>\n",
       "    </tr>\n",
       "    <tr>\n",
       "      <th>50%</th>\n",
       "      <td>0.696000</td>\n",
       "      <td>0.662000</td>\n",
       "      <td>6.000000</td>\n",
       "      <td>-6.249000</td>\n",
       "      <td>1.000000</td>\n",
       "      <td>0.066700</td>\n",
       "      <td>0.206000</td>\n",
       "      <td>0.000000</td>\n",
       "      <td>0.121000</td>\n",
       "      <td>0.523000</td>\n",
       "      <td>120.010000</td>\n",
       "      <td>2.070200e+05</td>\n",
       "      <td>4.000000</td>\n",
       "    </tr>\n",
       "    <tr>\n",
       "      <th>75%</th>\n",
       "      <td>0.782000</td>\n",
       "      <td>0.767000</td>\n",
       "      <td>8.000000</td>\n",
       "      <td>-4.904500</td>\n",
       "      <td>1.000000</td>\n",
       "      <td>0.163000</td>\n",
       "      <td>0.428000</td>\n",
       "      <td>0.000015</td>\n",
       "      <td>0.204000</td>\n",
       "      <td>0.698000</td>\n",
       "      <td>139.973000</td>\n",
       "      <td>2.374585e+05</td>\n",
       "      <td>4.000000</td>\n",
       "    </tr>\n",
       "    <tr>\n",
       "      <th>max</th>\n",
       "      <td>0.978000</td>\n",
       "      <td>0.988000</td>\n",
       "      <td>11.000000</td>\n",
       "      <td>0.302000</td>\n",
       "      <td>1.000000</td>\n",
       "      <td>0.856000</td>\n",
       "      <td>0.989000</td>\n",
       "      <td>0.966000</td>\n",
       "      <td>0.990000</td>\n",
       "      <td>0.982000</td>\n",
       "      <td>230.186000</td>\n",
       "      <td>1.787030e+06</td>\n",
       "      <td>5.000000</td>\n",
       "    </tr>\n",
       "  </tbody>\n",
       "</table>\n",
       "</div>"
      ],
      "text/plain": [
       "       danceability       energy          key     loudness         mode  \\\n",
       "count   4399.000000  4399.000000  4399.000000  4399.000000  4399.000000   \n",
       "mean       0.680125     0.646061     5.424642    -6.538085     0.562401   \n",
       "std        0.138359     0.164395     3.590725     2.388598     0.496147   \n",
       "min        0.116000     0.054900     0.000000   -23.666000     0.000000   \n",
       "25%        0.590000     0.538000     2.000000    -7.873500     0.000000   \n",
       "50%        0.696000     0.662000     6.000000    -6.249000     1.000000   \n",
       "75%        0.782000     0.767000     8.000000    -4.904500     1.000000   \n",
       "max        0.978000     0.988000    11.000000     0.302000     1.000000   \n",
       "\n",
       "       speechiness  acousticness  instrumentalness     liveness      valence  \\\n",
       "count  4399.000000   4399.000000       4399.000000  4399.000000  4399.000000   \n",
       "mean      0.116357      0.276693          0.007964     0.179661     0.525453   \n",
       "std       0.108137      0.244853          0.061715     0.149982     0.217144   \n",
       "min       0.022800      0.000025          0.000000     0.016100     0.036900   \n",
       "25%       0.039450      0.070850          0.000000     0.094600     0.356000   \n",
       "50%       0.066700      0.206000          0.000000     0.121000     0.523000   \n",
       "75%       0.163000      0.428000          0.000015     0.204000     0.698000   \n",
       "max       0.856000      0.989000          0.966000     0.990000     0.982000   \n",
       "\n",
       "             tempo   duration_ms  time_signature  \n",
       "count  4399.000000  4.399000e+03     4399.000000  \n",
       "mean    121.342378  2.141793e+05        3.976131  \n",
       "std      28.900121  5.329166e+04        0.251640  \n",
       "min      48.718000  6.374300e+04        1.000000  \n",
       "25%      97.978000  1.824580e+05        4.000000  \n",
       "50%     120.010000  2.070200e+05        4.000000  \n",
       "75%     139.973000  2.374585e+05        4.000000  \n",
       "max     230.186000  1.787030e+06        5.000000  "
      ]
     },
     "execution_count": 3,
     "metadata": {},
     "output_type": "execute_result"
    }
   ],
   "source": [
    "audio_features.describe()"
   ]
  },
  {
   "cell_type": "code",
   "execution_count": 4,
   "metadata": {},
   "outputs": [],
   "source": [
    "t200 = top200.merge(audio_features,how='left',left_on='Track Id',right_on='id').iloc[:,5:20]\n",
    "t100 = top200.loc[top200['Position']<101,:].merge(audio_features,how='left',left_on='Track Id',right_on='id').iloc[:,5:20]\n",
    "t50 = top200.loc[top200['Position']<51,:].merge(audio_features,how='left',left_on='Track Id',right_on='id').iloc[:,5:20]\n",
    "t10 = top200.loc[top200['Position']<11,:].merge(audio_features,how='left',left_on='Track Id',right_on='id').iloc[:,5:20]\n"
   ]
  },
  {
   "cell_type": "markdown",
   "metadata": {},
   "source": [
    "# top200"
   ]
  },
  {
   "cell_type": "code",
   "execution_count": 5,
   "metadata": {},
   "outputs": [],
   "source": [
    "df = t200.groupby(by='Country').mean().iloc[:,[0,1,9]]"
   ]
  },
  {
   "cell_type": "code",
   "execution_count": 6,
   "metadata": {},
   "outputs": [],
   "source": [
    "# Importing the dataset\n",
    "X = df.values"
   ]
  },
  {
   "cell_type": "code",
   "execution_count": 7,
   "metadata": {},
   "outputs": [
    {
     "data": {
      "image/png": "[encoded data removed]",
      "text/plain": [
       "<Figure size 432x288 with 1 Axes>"
      ]
     },
     "metadata": {
      "needs_background": "dark"
     },
     "output_type": "display_data"
    }
   ],
   "source": [
    "# Using the elbow method to find the optimal number of clusters\n",
    "from sklearn.cluster import KMeans\n",
    "wcss = []\n",
    "for i in range(1, 11):\n",
    "    kmeans = KMeans(n_clusters = i, init = 'k-means++', random_state = 42)\n",
    "    kmeans.fit(X)\n",
    "    wcss.append(kmeans.inertia_)\n",
    "plt.plot(range(1, 11), wcss)\n",
    "plt.title('The Elbow Method')\n",
    "plt.xlabel('Number of clusters')\n",
    "plt.ylabel('WCSS')\n",
    "plt.show()"
   ]
  },
  {
   "cell_type": "code",
   "execution_count": 8,
   "metadata": {},
   "outputs": [],
   "source": [
    "# Fitting K-Means to the dataset\n",
    "kmeans = KMeans(n_clusters = 2, init = 'k-means++') #random_state = 42)\n",
    "y_kmeans = kmeans.fit_predict(X)"
   ]
  },
  {
   "cell_type": "code",
   "execution_count": 9,
   "metadata": {},
   "outputs": [
    {
     "name": "stdout",
     "output_type": "stream",
     "text": [
      "0:19  1:45  2:0\n"
     ]
    }
   ],
   "source": [
    "pr = list(y_kmeans)\n",
    "cero = 0\n",
    "one = 0\n",
    "two = 0\n",
    "for i in pr:\n",
    "    if i == 0:\n",
    "        cero += 1\n",
    "    elif i == 1:\n",
    "        one += 1\n",
    "    else:\n",
    "        two += 1\n",
    "print(f'0:{cero}  1:{one}  2:{two}')\n"
   ]
  },
  {
   "cell_type": "markdown",
   "metadata": {},
   "source": [
    "# top100"
   ]
  },
  {
   "cell_type": "code",
   "execution_count": 6,
   "metadata": {},
   "outputs": [],
   "source": [
    "df = t100.groupby(by='Country').mean().iloc[:,[0,1,9]]"
   ]
  },
  {
   "cell_type": "code",
   "execution_count": 7,
   "metadata": {},
   "outputs": [],
   "source": [
    "# Importing the dataset\n",
    "X = df.values"
   ]
  },
  {
   "cell_type": "code",
   "execution_count": 8,
   "metadata": {},
   "outputs": [
    {
     "data": {
      "image/png": "[encoded data removed]",
      "text/plain": [
       "<Figure size 432x288 with 1 Axes>"
      ]
     },
     "metadata": {
      "needs_background": "dark"
     },
     "output_type": "display_data"
    }
   ],
   "source": [
    "# Using the elbow method to find the optimal number of clusters\n",
    "from sklearn.cluster import KMeans\n",
    "wcss = []\n",
    "for i in range(1, 11):\n",
    "    kmeans = KMeans(n_clusters = i, init = 'k-means++', random_state = 42)\n",
    "    kmeans.fit(X)\n",
    "    wcss.append(kmeans.inertia_)\n",
    "plt.plot(range(1, 11), wcss)\n",
    "plt.title('The Elbow Method')\n",
    "plt.xlabel('Number of clusters')\n",
    "plt.ylabel('WCSS')\n",
    "plt.show()"
   ]
  },
  {
   "cell_type": "code",
   "execution_count": 9,
   "metadata": {},
   "outputs": [],
   "source": [
    "# Fitting K-Means to the dataset\n",
    "kmeans = KMeans(n_clusters = 3, init = 'k-means++') #random_state = 42)\n",
    "y_kmeans = kmeans.fit_predict(X)"
   ]
  },
  {
   "cell_type": "code",
   "execution_count": 10,
   "metadata": {},
   "outputs": [
    {
     "name": "stdout",
     "output_type": "stream",
     "text": [
      "0:20  1:12  2:32\n"
     ]
    }
   ],
   "source": [
    "pr = list(y_kmeans)\n",
    "cero = 0\n",
    "one = 0\n",
    "two = 0\n",
    "for i in pr:\n",
    "    if i == 0:\n",
    "        cero += 1\n",
    "    elif i == 1:\n",
    "        one += 1\n",
    "    else:\n",
    "        two += 1\n",
    "print(f'0:{cero}  1:{one}  2:{two}')\n",
    "\n",
    "    "
   ]
  },
  {
   "cell_type": "code",
   "execution_count": 13,
   "metadata": {},
   "outputs": [],
   "source": [
    "countries = df.reset_index()\n",
    "countries['cluster'] = pr"
   ]
  },
  {
   "cell_type": "code",
   "execution_count": 19,
   "metadata": {},
   "outputs": [],
   "source": [
    "cluster = countries[['Country','cluster']]\n",
    "cluster.to_csv('cluster.csv',index=False)"
   ]
  },
  {
   "cell_type": "markdown",
   "metadata": {},
   "source": [
    "# top50"
   ]
  },
  {
   "cell_type": "code",
   "execution_count": 15,
   "metadata": {},
   "outputs": [],
   "source": [
    "df = t50.groupby(by='Country').mean().iloc[:,[0,1,9]]"
   ]
  },
  {
   "cell_type": "code",
   "execution_count": 16,
   "metadata": {},
   "outputs": [],
   "source": [
    "# Importing the dataset\n",
    "X = df.values"
   ]
  },
  {
   "cell_type": "code",
   "execution_count": 17,
   "metadata": {},
   "outputs": [
    {
     "data": {
      "image/png": "[encoded data removed]",
      "text/plain": [
       "<Figure size 432x288 with 1 Axes>"
      ]
     },
     "metadata": {
      "needs_background": "dark"
     },
     "output_type": "display_data"
    }
   ],
   "source": [
    "# Using the elbow method to find the optimal number of clusters\n",
    "from sklearn.cluster import KMeans\n",
    "wcss = []\n",
    "for i in range(1, 11):\n",
    "    kmeans = KMeans(n_clusters = i, init = 'k-means++', random_state = 42)\n",
    "    kmeans.fit(X)\n",
    "    wcss.append(kmeans.inertia_)\n",
    "plt.plot(range(1, 11), wcss)\n",
    "plt.title('The Elbow Method')\n",
    "plt.xlabel('Number of clusters')\n",
    "plt.ylabel('WCSS')\n",
    "plt.show()"
   ]
  },
  {
   "cell_type": "code",
   "execution_count": 18,
   "metadata": {},
   "outputs": [],
   "source": [
    "# Fitting K-Means to the dataset\n",
    "kmeans = KMeans(n_clusters = 2, init = 'k-means++') #random_state = 42)\n",
    "y_kmeans = kmeans.fit_predict(X)"
   ]
  },
  {
   "cell_type": "code",
   "execution_count": 19,
   "metadata": {},
   "outputs": [
    {
     "name": "stdout",
     "output_type": "stream",
     "text": [
      "0:21  1:43  2:0\n"
     ]
    }
   ],
   "source": [
    "pr = list(y_kmeans)\n",
    "cero = 0\n",
    "one = 0\n",
    "two = 0\n",
    "for i in pr:\n",
    "    if i == 0:\n",
    "        cero += 1\n",
    "    elif i == 1:\n",
    "        one += 1\n",
    "    else:\n",
    "        two += 1\n",
    "print(f'0:{cero}  1:{one}  2:{two}')\n",
    "\n",
    "    "
   ]
  },
  {
   "cell_type": "markdown",
   "metadata": {},
   "source": [
    "# top10"
   ]
  },
  {
   "cell_type": "code",
   "execution_count": 21,
   "metadata": {},
   "outputs": [],
   "source": [
    "df = t10.groupby(by='Country').mean().iloc[:,[0,1,9]]"
   ]
  },
  {
   "cell_type": "code",
   "execution_count": 22,
   "metadata": {},
   "outputs": [],
   "source": [
    "# Importing the dataset\n",
    "X = df.values"
   ]
  },
  {
   "cell_type": "code",
   "execution_count": 23,
   "metadata": {},
   "outputs": [
    {
     "data": {
      "image/png": "[encoded data removed]",
      "text/plain": [
       "<Figure size 432x288 with 1 Axes>"
      ]
     },
     "metadata": {
      "needs_background": "dark"
     },
     "output_type": "display_data"
    }
   ],
   "source": [
    "# Using the elbow method to find the optimal number of clusters\n",
    "from sklearn.cluster import KMeans\n",
    "wcss = []\n",
    "for i in range(1, 11):\n",
    "    kmeans = KMeans(n_clusters = i, init = 'k-means++', random_state = 42)\n",
    "    kmeans.fit(X)\n",
    "    wcss.append(kmeans.inertia_)\n",
    "plt.plot(range(1, 11), wcss)\n",
    "plt.title('The Elbow Method')\n",
    "plt.xlabel('Number of clusters')\n",
    "plt.ylabel('WCSS')\n",
    "plt.show()"
   ]
  },
  {
   "cell_type": "code",
   "execution_count": 26,
   "metadata": {},
   "outputs": [],
   "source": [
    "# Fitting K-Means to the dataset\n",
    "kmeans = KMeans(n_clusters = 2, init = 'k-means++') #random_state = 42)\n",
    "y_kmeans = kmeans.fit_predict(X)"
   ]
  },
  {
   "cell_type": "code",
   "execution_count": 27,
   "metadata": {},
   "outputs": [
    {
     "name": "stdout",
     "output_type": "stream",
     "text": [
      "0:29  1:35  2:0\n"
     ]
    }
   ],
   "source": [
    "pr = list(y_kmeans)\n",
    "cero = 0\n",
    "one = 0\n",
    "two = 0\n",
    "for i in pr:\n",
    "    if i == 0:\n",
    "        cero += 1\n",
    "    elif i == 1:\n",
    "        one += 1\n",
    "    else:\n",
    "        two += 1\n",
    "print(f'0:{cero}  1:{one}  2:{two}')\n",
    "\n",
    "    "
   ]
  },
  {
   "cell_type": "code",
   "execution_count": null,
   "metadata": {},
   "outputs": [],
   "source": [
    "# # Visualising the clusters\n",
    "# plt.scatter(X[y_kmeans == 0, 0], X[y_kmeans == 0, 1], s = 100, c = 'red', label = 'Cluster 1')\n",
    "# plt.scatter(X[y_kmeans == 1, 0], X[y_kmeans == 1, 1], s = 100, c = 'blue', label = 'Cluster 2')\n",
    "# plt.scatter(X[y_kmeans == 2, 0], X[y_kmeans == 2, 1], s = 100, c = 'green', label = 'Cluster 3')\n",
    "# #plt.scatter(X[y_kmeans == 3, 0], X[y_kmeans == 3, 1], s = 100, c = 'cyan', label = 'Cluster 4')\n",
    "# #plt.scatter(X[y_kmeans == 4, 0], X[y_kmeans == 4, 1], s = 100, c = 'magenta', label = 'Cluster 5')\n",
    "# plt.scatter(kmeans.cluster_centers_[:, 0], kmeans.cluster_centers_[:, 1], s = 300, c = 'yellow', label = 'Centroids')\n",
    "# plt.title('Clusters of customers')\n",
    "# plt.xlabel('Annual Income (k$)')\n",
    "# plt.ylabel('Spending Score (1-100)')\n",
    "# plt.legend()\n",
    "# plt.show()\n",
    "\n",
    "\n",
    "# Importing the dataset\n",
    "# y = dataset.iloc[:, 3].values\n",
    "# Splitting the dataset into the Training set and Test set\n",
    "\"\"\"from sklearn.cross_validation import train_test_split\n",
    "X_train, X_test, y_train, y_test = train_test_split(X, y, test_size = 0.2, random_state = 0)\"\"\"\n",
    "# Feature Scaling\n",
    "\"\"\"from sklearn.preprocessing import StandardScaler\n",
    "sc_X = StandardScaler()\n",
    "X_train = sc_X.fit_transform(X_train)\n",
    "X_test = sc_X.transform(X_test)\n",
    "sc_y = StandardScaler()\n",
    "y_train = sc_y.fit_transform(y_train)\"\"\""
   ]
  }
 ],
 "metadata": {
  "kernelspec": {
   "display_name": "Python 3",
   "language": "python",
   "name": "python3"
  },
  "language_info": {
   "codemirror_mode": {
    "name": "ipython",
    "version": 3
   },
   "file_extension": ".py",
   "mimetype": "text/x-python",
   "name": "python",
   "nbconvert_exporter": "python",
   "pygments_lexer": "ipython3",
   "version": "3.7.3"
  }
 },
 "nbformat": 4,
 "nbformat_minor": 2
}
